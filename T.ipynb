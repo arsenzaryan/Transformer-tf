{
 "cells": [
  {
   "cell_type": "code",
   "execution_count": 1,
   "metadata": {},
   "outputs": [],
   "source": [
    "import numpy as np\n",
    "import tensorflow as tf\n",
    "import logging"
   ]
  },
  {
   "cell_type": "code",
   "execution_count": 2,
   "metadata": {},
   "outputs": [],
   "source": [
    "from transformer_modules import *\n",
    "from utils import *"
   ]
  },
  {
   "cell_type": "code",
   "execution_count": null,
   "metadata": {},
   "outputs": [],
   "source": []
  },
  {
   "cell_type": "code",
   "execution_count": 3,
   "metadata": {},
   "outputs": [],
   "source": [
    "np.random.seed(20)"
   ]
  },
  {
   "cell_type": "code",
   "execution_count": 4,
   "metadata": {},
   "outputs": [],
   "source": [
    "# q0 = np.random.randn(5,10, 1,20).astype(np.float32)\n",
    "# k0 = np.random.randn(5,10, 1,20).astype(np.float32)\n",
    "# v0 = np.random.randn(5,10, 1,20).astype(np.float32)\n",
    "\n",
    "# q = tf.placeholder_with_default(input = q0, shape=[None, 10, 1, 20])\n",
    "# k = tf.placeholder_with_default(input = k0, shape=[None, 10, 1, 20])\n",
    "# v = tf.placeholder_with_default(input = v0, shape=[None, 10, 1, 20])"
   ]
  },
  {
   "cell_type": "code",
   "execution_count": 5,
   "metadata": {},
   "outputs": [],
   "source": [
    "# attn = ScaledDotProductAttention()"
   ]
  },
  {
   "cell_type": "code",
   "execution_count": 6,
   "metadata": {},
   "outputs": [],
   "source": [
    "N_ = 10000\n",
    "inp = np.random.randint(low=0, high=101, size = (N_,15))\n",
    "out = np.concatenate([np.full([N_, 1], np.max(inp)+1), inp], axis = 1)\n",
    "data = (inp, out)"
   ]
  },
  {
   "cell_type": "code",
   "execution_count": 7,
   "metadata": {},
   "outputs": [],
   "source": [
    "batch_iter = gen_batch(data)"
   ]
  },
  {
   "cell_type": "code",
   "execution_count": 8,
   "metadata": {},
   "outputs": [],
   "source": [
    "d_model = 50"
   ]
  },
  {
   "cell_type": "code",
   "execution_count": 9,
   "metadata": {},
   "outputs": [],
   "source": [
    "inp_embs = WordEmbeddings(d_model=d_model, d_vocab=100)\n",
    "out_embs = WordEmbeddings(d_model=d_model, d_vocab=101)"
   ]
  },
  {
   "cell_type": "code",
   "execution_count": 10,
   "metadata": {},
   "outputs": [
    {
     "data": {
      "text/plain": [
       "(10, 15)"
      ]
     },
     "execution_count": 10,
     "metadata": {},
     "output_type": "execute_result"
    }
   ],
   "source": [
    "batch_iter.__next__()[0].shape"
   ]
  },
  {
   "cell_type": "code",
   "execution_count": null,
   "metadata": {},
   "outputs": [],
   "source": []
  },
  {
   "cell_type": "code",
   "execution_count": 11,
   "metadata": {},
   "outputs": [],
   "source": [
    "tsf_enc_inp = inp_embs(batch_iter.__next__()[0])\n",
    "tsf_dec_inp = inp_embs(batch_iter.__next__()[1])"
   ]
  },
  {
   "cell_type": "code",
   "execution_count": null,
   "metadata": {},
   "outputs": [],
   "source": []
  },
  {
   "cell_type": "code",
   "execution_count": 12,
   "metadata": {},
   "outputs": [],
   "source": [
    "# q0 = np.random.randn(5,10, 100).astype(np.float32)\n",
    "# k0 = np.random.randn(5,10, 100).astype(np.float32)\n",
    "# v0 = np.random.randn(5,10, 100).astype(np.float32)\n",
    "\n",
    "# q = tf.placeholder_with_default(input = q0, shape=[None, 10, 100])\n",
    "# k = tf.placeholder_with_default(input = k0, shape=[None, 10, 100])\n",
    "# v = tf.placeholder_with_default(input = v0, shape=[None, 10, 100])"
   ]
  },
  {
   "cell_type": "code",
   "execution_count": 13,
   "metadata": {},
   "outputs": [],
   "source": [
    "# attn_head = MultiHeadAttnetion(100, 5)\n",
    "# enc = EncoderBlock(100, 20, n_heads=5, d_ff=500)\n",
    "enc = TransformerEncoder(n_blocks=3, d_model=d_model, n_heads=5, d_ff=500)"
   ]
  },
  {
   "cell_type": "code",
   "execution_count": 14,
   "metadata": {},
   "outputs": [
    {
     "name": "stderr",
     "output_type": "stream",
     "text": [
      "Encoder, input size=(10, 15, 50)\n",
      "ScaledDotProductAttention, attention weights size=(10, 5, 15, 15)\n",
      "ScaledDotProductAttention, attention output size=(10, 15, 5, 10)\n",
      "Multihead Attention, output size=(10, 15, 50)\n",
      "Encoder, attention output size=(10, 15, 50)\n",
      "Encoder, output size=(10, 15, 50)\n",
      "Encoder, input size=(10, 15, 50)\n",
      "ScaledDotProductAttention, attention weights size=(10, 5, 15, 15)\n",
      "ScaledDotProductAttention, attention output size=(10, 15, 5, 10)\n",
      "Multihead Attention, output size=(10, 15, 50)\n",
      "Encoder, attention output size=(10, 15, 50)\n",
      "Encoder, output size=(10, 15, 50)\n",
      "Encoder, input size=(10, 15, 50)\n",
      "ScaledDotProductAttention, attention weights size=(10, 5, 15, 15)\n",
      "ScaledDotProductAttention, attention output size=(10, 15, 5, 10)\n",
      "Multihead Attention, output size=(10, 15, 50)\n",
      "Encoder, attention output size=(10, 15, 50)\n",
      "Encoder, output size=(10, 15, 50)\n"
     ]
    }
   ],
   "source": [
    "# x = attn_head(q, k, v)\n",
    "enc_out = enc(tsf_enc_inp)"
   ]
  },
  {
   "cell_type": "code",
   "execution_count": 15,
   "metadata": {},
   "outputs": [],
   "source": [
    "dec = TransformerDecoder(n_blocks=3, d_model=d_model, n_heads=5, d_ff=500)"
   ]
  },
  {
   "cell_type": "code",
   "execution_count": 16,
   "metadata": {},
   "outputs": [
    {
     "name": "stderr",
     "output_type": "stream",
     "text": [
      "ScaledDotProductAttention, attention weights size=(10, 5, 16, 16)\n",
      "ScaledDotProductAttention, attention output size=(10, 16, 5, 10)\n",
      "Multihead Attention, output size=(10, 16, 50)\n",
      "ScaledDotProductAttention, attention weights size=(10, 5, 16, 15)\n",
      "ScaledDotProductAttention, attention output size=(10, 16, 5, 10)\n",
      "Multihead Attention, output size=(10, 16, 50)\n",
      "ScaledDotProductAttention, attention weights size=(10, 5, 16, 16)\n",
      "ScaledDotProductAttention, attention output size=(10, 16, 5, 10)\n",
      "Multihead Attention, output size=(10, 16, 50)\n",
      "ScaledDotProductAttention, attention weights size=(10, 5, 16, 15)\n",
      "ScaledDotProductAttention, attention output size=(10, 16, 5, 10)\n",
      "Multihead Attention, output size=(10, 16, 50)\n",
      "ScaledDotProductAttention, attention weights size=(10, 5, 16, 16)\n",
      "ScaledDotProductAttention, attention output size=(10, 16, 5, 10)\n",
      "Multihead Attention, output size=(10, 16, 50)\n",
      "ScaledDotProductAttention, attention weights size=(10, 5, 16, 15)\n",
      "ScaledDotProductAttention, attention output size=(10, 16, 5, 10)\n",
      "Multihead Attention, output size=(10, 16, 50)\n"
     ]
    }
   ],
   "source": [
    "dec_out = dec(tsf_dec_inp, enc_out)"
   ]
  },
  {
   "cell_type": "code",
   "execution_count": 17,
   "metadata": {},
   "outputs": [],
   "source": [
    "gen = Generator(1000)"
   ]
  },
  {
   "cell_type": "code",
   "execution_count": 18,
   "metadata": {},
   "outputs": [],
   "source": [
    "out = gen(dec_out)"
   ]
  },
  {
   "cell_type": "code",
   "execution_count": 19,
   "metadata": {},
   "outputs": [
    {
     "data": {
      "text/plain": [
       "<tf.Tensor 'add_16:0' shape=(10, 16, 50) dtype=float32>"
      ]
     },
     "execution_count": 19,
     "metadata": {},
     "output_type": "execute_result"
    }
   ],
   "source": [
    "dec_out"
   ]
  },
  {
   "cell_type": "code",
   "execution_count": 20,
   "metadata": {},
   "outputs": [
    {
     "data": {
      "text/plain": [
       "<tf.Tensor 'Softmax:0' shape=(10, 16, 1000) dtype=float32>"
      ]
     },
     "execution_count": 20,
     "metadata": {},
     "output_type": "execute_result"
    }
   ],
   "source": [
    "out"
   ]
  },
  {
   "cell_type": "code",
   "execution_count": null,
   "metadata": {},
   "outputs": [],
   "source": []
  },
  {
   "cell_type": "code",
   "execution_count": 21,
   "metadata": {},
   "outputs": [],
   "source": [
    "sess = tf.Session()\n",
    "sess.run(tf.global_variables_initializer())"
   ]
  },
  {
   "cell_type": "code",
   "execution_count": 22,
   "metadata": {},
   "outputs": [],
   "source": [
    "x_outp = sess.run(out)"
   ]
  },
  {
   "cell_type": "code",
   "execution_count": 23,
   "metadata": {},
   "outputs": [
    {
     "data": {
      "text/plain": [
       "(10, 16, 1000)"
      ]
     },
     "execution_count": 23,
     "metadata": {},
     "output_type": "execute_result"
    }
   ],
   "source": [
    "x_outp.shape"
   ]
  },
  {
   "cell_type": "code",
   "execution_count": 24,
   "metadata": {},
   "outputs": [
    {
     "data": {
      "text/plain": [
       "1.000000073067276"
      ]
     },
     "execution_count": 24,
     "metadata": {},
     "output_type": "execute_result"
    }
   ],
   "source": [
    "sum(x_outp[0][0])"
   ]
  },
  {
   "cell_type": "code",
   "execution_count": null,
   "metadata": {},
   "outputs": [],
   "source": []
  },
  {
   "cell_type": "code",
   "execution_count": null,
   "metadata": {},
   "outputs": [],
   "source": []
  },
  {
   "cell_type": "code",
   "execution_count": null,
   "metadata": {},
   "outputs": [],
   "source": []
  },
  {
   "cell_type": "code",
   "execution_count": null,
   "metadata": {},
   "outputs": [],
   "source": []
  },
  {
   "cell_type": "code",
   "execution_count": null,
   "metadata": {},
   "outputs": [],
   "source": []
  },
  {
   "cell_type": "code",
   "execution_count": null,
   "metadata": {},
   "outputs": [],
   "source": []
  },
  {
   "cell_type": "code",
   "execution_count": null,
   "metadata": {},
   "outputs": [],
   "source": []
  },
  {
   "cell_type": "code",
   "execution_count": null,
   "metadata": {},
   "outputs": [],
   "source": []
  }
 ],
 "metadata": {
  "kernelspec": {
   "display_name": "Python 3",
   "language": "python",
   "name": "python3"
  },
  "language_info": {
   "codemirror_mode": {
    "name": "ipython",
    "version": 3
   },
   "file_extension": ".py",
   "mimetype": "text/x-python",
   "name": "python",
   "nbconvert_exporter": "python",
   "pygments_lexer": "ipython3",
   "version": "3.6.8"
  }
 },
 "nbformat": 4,
 "nbformat_minor": 2
}
