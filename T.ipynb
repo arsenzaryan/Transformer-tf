{
 "cells": [
  {
   "cell_type": "code",
   "execution_count": 1,
   "metadata": {},
   "outputs": [
    {
     "name": "stderr",
     "output_type": "stream",
     "text": [
      "/usr/lib/python3.5/importlib/_bootstrap.py:222: RuntimeWarning: numpy.dtype size changed, may indicate binary incompatibility. Expected 96, got 88\n",
      "  return f(*args, **kwds)\n",
      "/home/ayeghiazaryan/.local/lib/python3.5/site-packages/h5py/__init__.py:36: FutureWarning: Conversion of the second argument of issubdtype from `float` to `np.floating` is deprecated. In future, it will be treated as `np.float64 == np.dtype(float).type`.\n",
      "  from ._conv import register_converters as _register_converters\n"
     ]
    }
   ],
   "source": [
    "import numpy as np\n",
    "import tensorflow as tf\n",
    "import logging"
   ]
  },
  {
   "cell_type": "code",
   "execution_count": 2,
   "metadata": {},
   "outputs": [],
   "source": [
    "from transformer_modules import *"
   ]
  },
  {
   "cell_type": "code",
   "execution_count": null,
   "metadata": {},
   "outputs": [],
   "source": []
  },
  {
   "cell_type": "code",
   "execution_count": 3,
   "metadata": {},
   "outputs": [],
   "source": [
    "np.random.seed(20)"
   ]
  },
  {
   "cell_type": "code",
   "execution_count": 4,
   "metadata": {},
   "outputs": [],
   "source": [
    "# q0 = np.random.randn(5,10, 1,20).astype(np.float32)\n",
    "# k0 = np.random.randn(5,10, 1,20).astype(np.float32)\n",
    "# v0 = np.random.randn(5,10, 1,20).astype(np.float32)\n",
    "\n",
    "# q = tf.placeholder_with_default(input = q0, shape=[None, 10, 1, 20])\n",
    "# k = tf.placeholder_with_default(input = k0, shape=[None, 10, 1, 20])\n",
    "# v = tf.placeholder_with_default(input = v0, shape=[None, 10, 1, 20])"
   ]
  },
  {
   "cell_type": "code",
   "execution_count": 5,
   "metadata": {},
   "outputs": [],
   "source": [
    "# attn = ScaledDotProductAttention()"
   ]
  },
  {
   "cell_type": "code",
   "execution_count": 6,
   "metadata": {},
   "outputs": [],
   "source": [
    "q0 = np.random.randn(5,10, 100).astype(np.float32)\n",
    "k0 = np.random.randn(5,10, 100).astype(np.float32)\n",
    "v0 = np.random.randn(5,10, 100).astype(np.float32)\n",
    "\n",
    "q = tf.placeholder_with_default(input = q0, shape=[None, 10, 100])\n",
    "k = tf.placeholder_with_default(input = k0, shape=[None, 10, 100])\n",
    "v = tf.placeholder_with_default(input = v0, shape=[None, 10, 100])"
   ]
  },
  {
   "cell_type": "code",
   "execution_count": 7,
   "metadata": {},
   "outputs": [],
   "source": [
    "# attn_head = MultiHeadAttnetion(100, 5)\n",
    "# enc = EncoderBlock(100, 20, n_heads=5, d_ff=500)\n",
    "enc = TransformerEncoder(n_blocks=3, d_model=100, n_heads=5, d_ff=500)"
   ]
  },
  {
   "cell_type": "code",
   "execution_count": 8,
   "metadata": {},
   "outputs": [
    {
     "name": "stderr",
     "output_type": "stream",
     "text": [
      "Encoder, input size=(?, 10, 100)\n",
      "ScaledDotProductAttention, attention weights size=(?, 5, 10, 10)\n",
      "ScaledDotProductAttention, attention output size=(?, 10, 5, 20)\n",
      "Multihead Attention, output size=(?, 10, 100)\n",
      "Encoder, attention output size=(?, 10, 100)\n",
      "/usr/lib/python3.5/importlib/_bootstrap.py:222: RuntimeWarning: numpy.dtype size changed, may indicate binary incompatibility. Expected 96, got 88\n",
      "  return f(*args, **kwds)\n",
      "/usr/lib/python3.5/importlib/_bootstrap.py:222: RuntimeWarning: numpy.dtype size changed, may indicate binary incompatibility. Expected 96, got 88\n",
      "  return f(*args, **kwds)\n",
      "Encoder, output size=(?, 10, 100)\n",
      "Encoder, input size=(?, 10, 100)\n",
      "ScaledDotProductAttention, attention weights size=(?, 5, 10, 10)\n",
      "ScaledDotProductAttention, attention output size=(?, 10, 5, 20)\n",
      "Multihead Attention, output size=(?, 10, 100)\n",
      "Encoder, attention output size=(?, 10, 100)\n",
      "Encoder, output size=(?, 10, 100)\n",
      "Encoder, input size=(?, 10, 100)\n",
      "ScaledDotProductAttention, attention weights size=(?, 5, 10, 10)\n",
      "ScaledDotProductAttention, attention output size=(?, 10, 5, 20)\n",
      "Multihead Attention, output size=(?, 10, 100)\n",
      "Encoder, attention output size=(?, 10, 100)\n",
      "Encoder, output size=(?, 10, 100)\n"
     ]
    }
   ],
   "source": [
    "# x = attn_head(q, k, v)\n",
    "enc_out = enc(q)"
   ]
  },
  {
   "cell_type": "code",
   "execution_count": 9,
   "metadata": {},
   "outputs": [],
   "source": [
    "dec = TransformerDecoder(n_blocks=3, d_model=100, n_heads=5, d_ff=500)"
   ]
  },
  {
   "cell_type": "code",
   "execution_count": 10,
   "metadata": {},
   "outputs": [
    {
     "name": "stderr",
     "output_type": "stream",
     "text": [
      "ScaledDotProductAttention, attention weights size=(?, 5, 10, 10)\n",
      "ScaledDotProductAttention, attention output size=(?, 10, 5, 20)\n",
      "Multihead Attention, output size=(?, 10, 100)\n",
      "ScaledDotProductAttention, attention weights size=(?, 5, 10, 10)\n",
      "ScaledDotProductAttention, attention output size=(?, 10, 5, 20)\n",
      "Multihead Attention, output size=(?, 10, 100)\n",
      "ScaledDotProductAttention, attention weights size=(?, 5, 10, 10)\n",
      "ScaledDotProductAttention, attention output size=(?, 10, 5, 20)\n",
      "Multihead Attention, output size=(?, 10, 100)\n",
      "ScaledDotProductAttention, attention weights size=(?, 5, 10, 10)\n",
      "ScaledDotProductAttention, attention output size=(?, 10, 5, 20)\n",
      "Multihead Attention, output size=(?, 10, 100)\n",
      "ScaledDotProductAttention, attention weights size=(?, 5, 10, 10)\n",
      "ScaledDotProductAttention, attention output size=(?, 10, 5, 20)\n",
      "Multihead Attention, output size=(?, 10, 100)\n",
      "ScaledDotProductAttention, attention weights size=(?, 5, 10, 10)\n",
      "ScaledDotProductAttention, attention output size=(?, 10, 5, 20)\n",
      "Multihead Attention, output size=(?, 10, 100)\n"
     ]
    }
   ],
   "source": [
    "dec_out = dec(q, enc_out)"
   ]
  },
  {
   "cell_type": "code",
   "execution_count": null,
   "metadata": {},
   "outputs": [],
   "source": []
  },
  {
   "cell_type": "code",
   "execution_count": 11,
   "metadata": {},
   "outputs": [],
   "source": [
    "sess = tf.Session()\n",
    "sess.run(tf.global_variables_initializer())"
   ]
  },
  {
   "cell_type": "code",
   "execution_count": 12,
   "metadata": {},
   "outputs": [],
   "source": [
    "x_outp = sess.run(dec_out)"
   ]
  },
  {
   "cell_type": "code",
   "execution_count": 13,
   "metadata": {},
   "outputs": [
    {
     "data": {
      "text/plain": [
       "(5, 10, 100)"
      ]
     },
     "execution_count": 13,
     "metadata": {},
     "output_type": "execute_result"
    }
   ],
   "source": [
    "x_outp.shape"
   ]
  },
  {
   "cell_type": "code",
   "execution_count": null,
   "metadata": {},
   "outputs": [],
   "source": []
  },
  {
   "cell_type": "code",
   "execution_count": null,
   "metadata": {},
   "outputs": [],
   "source": []
  },
  {
   "cell_type": "code",
   "execution_count": null,
   "metadata": {},
   "outputs": [],
   "source": []
  },
  {
   "cell_type": "code",
   "execution_count": null,
   "metadata": {},
   "outputs": [],
   "source": []
  },
  {
   "cell_type": "code",
   "execution_count": null,
   "metadata": {},
   "outputs": [],
   "source": []
  },
  {
   "cell_type": "code",
   "execution_count": 23,
   "metadata": {},
   "outputs": [],
   "source": [
    "aa = tf.reshape(tf.Variable(initial_value=np.arange(1000)), (5,10,20))"
   ]
  },
  {
   "cell_type": "code",
   "execution_count": 24,
   "metadata": {},
   "outputs": [
    {
     "data": {
      "text/plain": [
       "<tf.Tensor 'Reshape_5:0' shape=(5, 10, 20) dtype=int64>"
      ]
     },
     "execution_count": 24,
     "metadata": {},
     "output_type": "execute_result"
    }
   ],
   "source": [
    "aa"
   ]
  },
  {
   "cell_type": "code",
   "execution_count": 25,
   "metadata": {},
   "outputs": [],
   "source": [
    "bb = tf.reshape(aa, (5,-1,2,10))"
   ]
  },
  {
   "cell_type": "code",
   "execution_count": null,
   "metadata": {},
   "outputs": [],
   "source": []
  },
  {
   "cell_type": "code",
   "execution_count": 26,
   "metadata": {},
   "outputs": [],
   "source": [
    "sess = tf.Session()\n",
    "sess.run(tf.global_variables_initializer())"
   ]
  },
  {
   "cell_type": "code",
   "execution_count": 27,
   "metadata": {},
   "outputs": [],
   "source": [
    "aa_s=sess.run(aa)"
   ]
  },
  {
   "cell_type": "code",
   "execution_count": null,
   "metadata": {},
   "outputs": [],
   "source": []
  },
  {
   "cell_type": "code",
   "execution_count": 28,
   "metadata": {},
   "outputs": [],
   "source": [
    "aa_r = sess.run(bb)"
   ]
  },
  {
   "cell_type": "code",
   "execution_count": 29,
   "metadata": {},
   "outputs": [
    {
     "data": {
      "text/plain": [
       "(5, 10, 2, 10)"
      ]
     },
     "execution_count": 29,
     "metadata": {},
     "output_type": "execute_result"
    }
   ],
   "source": [
    "aa_r.shape"
   ]
  },
  {
   "cell_type": "code",
   "execution_count": null,
   "metadata": {},
   "outputs": [],
   "source": []
  },
  {
   "cell_type": "code",
   "execution_count": 42,
   "metadata": {},
   "outputs": [
    {
     "data": {
      "text/plain": [
       "array([[940, 941, 942, 943, 944, 945, 946, 947, 948, 949],\n",
       "       [950, 951, 952, 953, 954, 955, 956, 957, 958, 959]])"
      ]
     },
     "execution_count": 42,
     "metadata": {},
     "output_type": "execute_result"
    }
   ],
   "source": [
    "aa_r[4,7,:,:]"
   ]
  },
  {
   "cell_type": "code",
   "execution_count": 43,
   "metadata": {},
   "outputs": [
    {
     "data": {
      "text/plain": [
       "array([940, 941, 942, 943, 944, 945, 946, 947, 948, 949, 950, 951, 952,\n",
       "       953, 954, 955, 956, 957, 958, 959])"
      ]
     },
     "execution_count": 43,
     "metadata": {},
     "output_type": "execute_result"
    }
   ],
   "source": [
    "aa_s[4,7,:]"
   ]
  },
  {
   "cell_type": "code",
   "execution_count": null,
   "metadata": {},
   "outputs": [],
   "source": []
  },
  {
   "cell_type": "code",
   "execution_count": null,
   "metadata": {},
   "outputs": [],
   "source": []
  },
  {
   "cell_type": "code",
   "execution_count": null,
   "metadata": {},
   "outputs": [],
   "source": []
  },
  {
   "cell_type": "code",
   "execution_count": null,
   "metadata": {},
   "outputs": [],
   "source": []
  }
 ],
 "metadata": {
  "kernelspec": {
   "display_name": "Python 3",
   "language": "python",
   "name": "python3"
  },
  "language_info": {
   "codemirror_mode": {
    "name": "ipython",
    "version": 3
   },
   "file_extension": ".py",
   "mimetype": "text/x-python",
   "name": "python",
   "nbconvert_exporter": "python",
   "pygments_lexer": "ipython3",
   "version": "3.5.2"
  }
 },
 "nbformat": 4,
 "nbformat_minor": 2
}
